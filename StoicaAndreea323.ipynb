{
 "cells": [
  {
   "cell_type": "code",
   "execution_count": 2,
   "metadata": {},
   "outputs": [
    {
     "data": {
      "text/plain": [
       "1/2*(2*_C - e^(-2*x))*e^(2*x)"
      ]
     },
     "execution_count": 2,
     "metadata": {},
     "output_type": "execute_result"
    }
   ],
   "source": [
    "#Stoica Andreea\n",
    "#gr 323\n",
    "\n",
    "#EXERCITIUL 1\n",
    "#a\n",
    "reset()\n",
    "x=var('x')\n",
    "y=function('y')(x)\n",
    "ec=x*diff(y,x)-2*x*y-x==0\n",
    "f(x,_C)=desolve(ec,y)\n",
    "f(x,_C)"
   ]
  },
  {
   "cell_type": "code",
   "execution_count": 10,
   "metadata": {},
   "outputs": [
    {
     "data": {
      "text/plain": [
       "7/2*e^(-2)"
      ]
     },
     "execution_count": 10,
     "metadata": {},
     "output_type": "execute_result"
    }
   ],
   "source": [
    "#b\n",
    "reset()\n",
    "x=var('x')\n",
    "y=function('y')(x)\n",
    "ec=x*diff(y,x)-2*x*y-x==0\n",
    "f(x,_C)=desolve(ec,y)\n",
    "e=f(1,_C)==3\n",
    "[c1]=solve(e,_C)\n",
    "c=c1.rhs()\n",
    "c"
   ]
  },
  {
   "cell_type": "code",
   "execution_count": 11,
   "metadata": {},
   "outputs": [
    {
     "data": {
      "text/plain": [
       "1/2*(7*e^(-2) - e^(-2*x))*e^(2*x)"
      ]
     },
     "execution_count": 11,
     "metadata": {},
     "output_type": "execute_result"
    }
   ],
   "source": [
    "f(x,c)"
   ]
  },
  {
   "cell_type": "code",
   "execution_count": 14,
   "metadata": {},
   "outputs": [
    {
     "data": {
      "text/plain": [
       "(_K2*t + _K1)*e^(3*t) + t"
      ]
     },
     "execution_count": 14,
     "metadata": {},
     "output_type": "execute_result"
    }
   ],
   "source": [
    "#EXERCITIUL 2\n",
    "#a\n",
    "reset()\n",
    "t=var('t')\n",
    "x=function('x')(t)\n",
    "ec=diff(x,t,2)-6*diff(x,t)+9*x==9*t-6\n",
    "f(t,_K1,_K2)=desolve(ec,x)\n",
    "f(t,_K1,_K2)"
   ]
  },
  {
   "cell_type": "code",
   "execution_count": 16,
   "metadata": {},
   "outputs": [
    {
     "data": {
      "image/png": "[encoded data removed]",
      "text/plain": [
       "Graphics object consisting of 1 graphics primitive"
      ]
     },
     "execution_count": 16,
     "metadata": {},
     "output_type": "execute_result"
    }
   ],
   "source": [
    "plot(f(t,0,1),t,-10,10,ymin=-10,ymax=10)"
   ]
  },
  {
   "cell_type": "code",
   "execution_count": 17,
   "metadata": {},
   "outputs": [
    {
     "data": {
      "text/plain": [
       "(a - 1)*t*e^(3*t) + t"
      ]
     },
     "execution_count": 17,
     "metadata": {},
     "output_type": "execute_result"
    }
   ],
   "source": [
    "#b\n",
    "reset()\n",
    "t,a=var('t,a')\n",
    "x=function('x')(t)\n",
    "ec=diff(x,t,2)-6*diff(x,t)+9*x==9*t-6\n",
    "f(t,a)=desolve(ec,x,ics=[0,0,a])\n",
    "f(t,a)"
   ]
  },
  {
   "cell_type": "code",
   "execution_count": 18,
   "metadata": {},
   "outputs": [
    {
     "data": {
      "text/plain": [
       "t"
      ]
     },
     "execution_count": 18,
     "metadata": {},
     "output_type": "execute_result"
    }
   ],
   "source": [
    "#solutia este polinomiala daca a=1\n",
    "f(t,1)"
   ]
  },
  {
   "cell_type": "code",
   "execution_count": 19,
   "metadata": {},
   "outputs": [
    {
     "data": {
      "text/plain": [
       "[x(t) == e^t*x(0), y(t) == (x(0) + y(0))*e^(2*t) - e^t*x(0)]"
      ]
     },
     "execution_count": 19,
     "metadata": {},
     "output_type": "execute_result"
    }
   ],
   "source": [
    "#EXERCITIUL 3\n",
    "#a\n",
    "reset()\n",
    "t=var('t')\n",
    "x=function('x')(t)\n",
    "y=function('y')(t)\n",
    "\n",
    "ec1=diff(x,t)==x\n",
    "ec2=diff(y,t)==x+2*y\n",
    "\n",
    "syst=[ec1,ec2]\n",
    "s=desolve_system(syst,[x,y])\n",
    "s"
   ]
  },
  {
   "cell_type": "code",
   "execution_count": 20,
   "metadata": {},
   "outputs": [
    {
     "data": {
      "text/plain": [
       "e^t*x(0)"
      ]
     },
     "execution_count": 20,
     "metadata": {},
     "output_type": "execute_result"
    }
   ],
   "source": [
    "solx=s[0].rhs()\n",
    "soly=s[1].rhs()\n",
    "solx"
   ]
  },
  {
   "cell_type": "code",
   "execution_count": 21,
   "metadata": {},
   "outputs": [
    {
     "data": {
      "text/plain": [
       "(x(0) + y(0))*e^(2*t) - e^t*x(0)"
      ]
     },
     "execution_count": 21,
     "metadata": {},
     "output_type": "execute_result"
    }
   ],
   "source": [
    "soly"
   ]
  },
  {
   "cell_type": "code",
   "execution_count": 22,
   "metadata": {},
   "outputs": [
    {
     "data": {
      "text/plain": [
       "[x(t) == e^t, y(t) == e^(2*t) - e^t]"
      ]
     },
     "execution_count": 22,
     "metadata": {},
     "output_type": "execute_result"
    }
   ],
   "source": [
    "#b\n",
    "reset()\n",
    "t=var('t')\n",
    "x=function('x')(t)\n",
    "y=function('y')(t)\n",
    "\n",
    "ec1=diff(x,t)==x\n",
    "ec2=diff(y,t)==x+2*y\n",
    "\n",
    "syst=[ec1,ec2]\n",
    "c=[0,1,0]\n",
    "s=desolve_system(syst,[x,y],c)\n",
    "s"
   ]
  },
  {
   "cell_type": "code",
   "execution_count": 23,
   "metadata": {},
   "outputs": [
    {
     "data": {
      "text/plain": [
       "e^t"
      ]
     },
     "execution_count": 23,
     "metadata": {},
     "output_type": "execute_result"
    }
   ],
   "source": [
    "solxb=s[0].rhs()\n",
    "solyb=s[1].rhs()\n",
    "solxb"
   ]
  },
  {
   "cell_type": "code",
   "execution_count": 24,
   "metadata": {},
   "outputs": [
    {
     "data": {
      "text/plain": [
       "e^(2*t) - e^t"
      ]
     },
     "execution_count": 24,
     "metadata": {},
     "output_type": "execute_result"
    }
   ],
   "source": [
    "solyb"
   ]
  },
  {
   "cell_type": "code",
   "execution_count": 44,
   "metadata": {},
   "outputs": [
    {
     "data": {
      "image/png": "[encoded data removed]",
      "text/plain": [
       "Graphics object consisting of 1 graphics primitive"
      ]
     },
     "metadata": {},
     "output_type": "display_data"
    }
   ],
   "source": [
    "#c\n",
    "reset()\n",
    "t=var('t')\n",
    "x=function('x')(t)\n",
    "y=function('y')(t)\n",
    "\n",
    "ec1=diff(x,t)==x\n",
    "ec2=diff(y,t)==x+2*y\n",
    "\n",
    "syst=[ec1,ec2]\n",
    "s=desolve_system(syst,[x,y])\n",
    "solxc=s[0].rhs()\n",
    "solyc=s[1].rhs()\n",
    "f1(u,v)=u\n",
    "f2(u,v)=u+2*v\n",
    "n=sqrt(f1(u,v)^2+f2(u,v)^2)\n",
    "g=plot_vector_field([f1(u,v)/n,f2(u,v)/n],[u,-5,5],[v,-5,5],color='red',aspect_ratio=1)\n",
    "show(g)\n",
    "\n",
    "#nu are loc nici una dintre conditii"
   ]
  },
  {
   "cell_type": "code",
   "execution_count": 40,
   "metadata": {},
   "outputs": [
    {
     "data": {
      "text/plain": [
       "x0*e^(r*t)"
      ]
     },
     "execution_count": 40,
     "metadata": {},
     "output_type": "execute_result"
    }
   ],
   "source": [
    "#EXERCITIUL 4 \n",
    "#a\n",
    "reset()\n",
    "t,r,x0=var('t,r,x0')\n",
    "x=function('x')(t)\n",
    "deqM=diff(x,t)==r*x\n",
    "sM(t,x0,r)=desolve(deqM,[x,t],[0,x0])\n",
    "sM(t,x0,r)"
   ]
  },
  {
   "cell_type": "code",
   "execution_count": 41,
   "metadata": {},
   "outputs": [
    {
     "data": {
      "image/png": "[encoded data removed]",
      "text/plain": [
       "Graphics object consisting of 1 graphics primitive"
      ]
     },
     "execution_count": 41,
     "metadata": {},
     "output_type": "execute_result"
    }
   ],
   "source": [
    "#b\n",
    "plot(sM(t,5,2),t,0,30,ymin=0,ymax=300)"
   ]
  },
  {
   "cell_type": "code",
   "execution_count": 42,
   "metadata": {},
   "outputs": [
    {
     "data": {
      "text/plain": [
       "1/10*log(3)"
      ]
     },
     "execution_count": 42,
     "metadata": {},
     "output_type": "execute_result"
    }
   ],
   "source": [
    "#c\n",
    "reset()\n",
    "t,r,x0=var('t,r,x0')\n",
    "x=function('x')(t)\n",
    "deqM=diff(x,t)==r*x\n",
    "sM(t,x0,r)=desolve(deqM,[x,t],[0,x0])\n",
    "assume(r,'real')\n",
    "ec=sM(10,10000,r)==30000\n",
    "[r1]=solve(ec,r)\n",
    "r2=r1.rhs()\n",
    "r2"
   ]
  },
  {
   "cell_type": "code",
   "execution_count": 43,
   "metadata": {},
   "outputs": [
    {
     "data": {
      "text/plain": [
       "0.109861228866811"
      ]
     },
     "execution_count": 43,
     "metadata": {},
     "output_type": "execute_result"
    }
   ],
   "source": [
    "r=numerical_approx(r2)\n",
    "r"
   ]
  },
  {
   "cell_type": "code",
   "execution_count": null,
   "metadata": {},
   "outputs": [],
   "source": []
  }
 ],
 "metadata": {
  "kernelspec": {
   "display_name": "SageMath 9.1",
   "language": "sage",
   "name": "sagemath"
  },
  "language_info": {
   "codemirror_mode": {
    "name": "ipython",
    "version": 3
   },
   "file_extension": ".py",
   "mimetype": "text/x-python",
   "name": "python",
   "nbconvert_exporter": "python",
   "pygments_lexer": "ipython3",
   "version": "3.7.3"
  }
 },
 "nbformat": 4,
 "nbformat_minor": 2
}
